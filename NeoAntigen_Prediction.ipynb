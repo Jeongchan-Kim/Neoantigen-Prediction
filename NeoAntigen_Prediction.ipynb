{
  "nbformat": 4,
  "nbformat_minor": 0,
  "metadata": {
    "colab": {
      "provenance": [],
      "gpuType": "T4",
      "authorship_tag": "ABX9TyOwdfUpU6KDDnZpQUj7N38Y",
      "include_colab_link": true
    },
    "kernelspec": {
      "name": "python3",
      "display_name": "Python 3"
    },
    "language_info": {
      "name": "python"
    },
    "accelerator": "GPU",
    "gpuClass": "standard"
  },
  "cells": [
    {
      "cell_type": "markdown",
      "metadata": {
        "id": "view-in-github",
        "colab_type": "text"
      },
      "source": [
        "<a href=\"https://colab.research.google.com/github/Jeongchan-Kim/Neoantigen-Prediction/blob/main/NeoAntigen_Prediction.ipynb\" target=\"_parent\"><img src=\"https://colab.research.google.com/assets/colab-badge.svg\" alt=\"Open In Colab\"/></a>"
      ]
    },
    {
      "cell_type": "code",
      "execution_count": null,
      "metadata": {
        "colab": {
          "base_uri": "https://localhost:8080/"
        },
        "id": "4DFn5Q5cgIpg",
        "outputId": "afd1e129-d5bc-4b62-8948-e37044045a08"
      },
      "outputs": [
        {
          "output_type": "stream",
          "name": "stdout",
          "text": [
            "Mounted at /content/drive\n"
          ]
        }
      ],
      "source": [
        "from google.colab import drive\n",
        "drive.mount('/content/drive')"
      ]
    },
    {
      "cell_type": "code",
      "source": [
        "shared_dir = '/content/drive/MyDrive/'"
      ],
      "metadata": {
        "id": "JPK5E13jglvr"
      },
      "execution_count": null,
      "outputs": []
    },
    {
      "cell_type": "markdown",
      "source": [
        "# **Prepairing Data**"
      ],
      "metadata": {
        "id": "SEKpoBWqgpK3"
      }
    },
    {
      "cell_type": "code",
      "source": [
        "import os\n",
        "import pandas as pd\n",
        "import json\n",
        "import numpy as np\n",
        "from sklearn.preprocessing import OneHotEncoder\n",
        "\n",
        "import torch\n",
        "from torch import nn \n",
        "import torch.nn.functional as F\n",
        "from torch.utils.data import Dataset, DataLoader\n",
        "from torch.autograd import Variable"
      ],
      "metadata": {
        "id": "R5TalrRPgtCx"
      },
      "execution_count": null,
      "outputs": []
    },
    {
      "cell_type": "code",
      "source": [
        "# antigen: epitope sequence\n",
        "# full_seq: HLA full sequence \n",
        "# label: 정답 값 (epitope와 HLA의 affinity)\n",
        "\n",
        "neo = pd.read_csv(shared_dir + 'NeoAntigen_dataset_for_training.csv')"
      ],
      "metadata": {
        "id": "fsP0g63mguRB"
      },
      "execution_count": null,
      "outputs": []
    },
    {
      "cell_type": "code",
      "source": [
        "neo"
      ],
      "metadata": {
        "colab": {
          "base_uri": "https://localhost:8080/",
          "height": 483
        },
        "id": "ca4Q3nbbgxb5",
        "outputId": "8f07b5c7-689e-43a6-c7e2-0bef71f7c6dc"
      },
      "execution_count": null,
      "outputs": [
        {
          "output_type": "execute_result",
          "data": {
            "text/plain": [
              "         antigen  allele_name  \\\n",
              "0      EVMPVSMAK  HLA-A*11:01   \n",
              "1      ATFSVPMEK  HLA-A*11:01   \n",
              "2      RVFNNYMPY  HLA-A*11:01   \n",
              "3      ATVVIGTSK  HLA-A*11:01   \n",
              "4      SSNVANYQK  HLA-A*11:01   \n",
              "...          ...          ...   \n",
              "62643  SYIDRLAPR  HLA-A*33:03   \n",
              "62644  VVAAVRWRR  HLA-A*33:03   \n",
              "62645  YVFPKPFNR  HLA-A*33:03   \n",
              "62646  YVQRFHYSR  HLA-A*33:03   \n",
              "62647  YYYYHRQYR  HLA-A*33:03   \n",
              "\n",
              "                                                full_seq  \\\n",
              "0      MAVMAPRTLLLLLSGALALTQTWAGSHSMRYFYTSVSRPGRGEPRF...   \n",
              "1      MAVMAPRTLLLLLSGALALTQTWAGSHSMRYFYTSVSRPGRGEPRF...   \n",
              "2      MAVMAPRTLLLLLSGALALTQTWAGSHSMRYFYTSVSRPGRGEPRF...   \n",
              "3      MAVMAPRTLLLLLSGALALTQTWAGSHSMRYFYTSVSRPGRGEPRF...   \n",
              "4      MAVMAPRTLLLLLSGALALTQTWAGSHSMRYFYTSVSRPGRGEPRF...   \n",
              "...                                                  ...   \n",
              "62643  MAVMAPRTLLLLLLGALALTQTWAGSHSMRYFTTSVSRPGRGEPRF...   \n",
              "62644  MAVMAPRTLLLLLLGALALTQTWAGSHSMRYFTTSVSRPGRGEPRF...   \n",
              "62645  MAVMAPRTLLLLLLGALALTQTWAGSHSMRYFTTSVSRPGRGEPRF...   \n",
              "62646  MAVMAPRTLLLLLLGALALTQTWAGSHSMRYFTTSVSRPGRGEPRF...   \n",
              "62647  MAVMAPRTLLLLLLGALALTQTWAGSHSMRYFTTSVSRPGRGEPRF...   \n",
              "\n",
              "                               pseudo_seq  label  \n",
              "0      YYAMYQENVAQTDVDTLYIIYRDYTWAAQAYRWY    1.0  \n",
              "1      YYAMYQENVAQTDVDTLYIIYRDYTWAAQAYRWY    1.0  \n",
              "2      YYAMYQENVAQTDVDTLYIIYRDYTWAAQAYRWY    1.0  \n",
              "3      YYAMYQENVAQTDVDTLYIIYRDYTWAAQAYRWY    1.0  \n",
              "4      YYAMYQENVAQTDVDTLYIIYRDYTWAAQAYRWY    1.0  \n",
              "...                                   ...    ...  \n",
              "62643  YTAMYRNNVAHIDVDTLYIMYQDYTWAVLAYTWY    1.0  \n",
              "62644  YTAMYRNNVAHIDVDTLYIMYQDYTWAVLAYTWY    1.0  \n",
              "62645  YTAMYRNNVAHIDVDTLYIMYQDYTWAVLAYTWY    1.0  \n",
              "62646  YTAMYRNNVAHIDVDTLYIMYQDYTWAVLAYTWY    1.0  \n",
              "62647  YTAMYRNNVAHIDVDTLYIMYQDYTWAVLAYTWY    1.0  \n",
              "\n",
              "[62648 rows x 5 columns]"
            ],
            "text/html": [
              "\n",
              "  <div id=\"df-ec089076-55d0-4102-901f-cf9656cb6879\">\n",
              "    <div class=\"colab-df-container\">\n",
              "      <div>\n",
              "<style scoped>\n",
              "    .dataframe tbody tr th:only-of-type {\n",
              "        vertical-align: middle;\n",
              "    }\n",
              "\n",
              "    .dataframe tbody tr th {\n",
              "        vertical-align: top;\n",
              "    }\n",
              "\n",
              "    .dataframe thead th {\n",
              "        text-align: right;\n",
              "    }\n",
              "</style>\n",
              "<table border=\"1\" class=\"dataframe\">\n",
              "  <thead>\n",
              "    <tr style=\"text-align: right;\">\n",
              "      <th></th>\n",
              "      <th>antigen</th>\n",
              "      <th>allele_name</th>\n",
              "      <th>full_seq</th>\n",
              "      <th>pseudo_seq</th>\n",
              "      <th>label</th>\n",
              "    </tr>\n",
              "  </thead>\n",
              "  <tbody>\n",
              "    <tr>\n",
              "      <th>0</th>\n",
              "      <td>EVMPVSMAK</td>\n",
              "      <td>HLA-A*11:01</td>\n",
              "      <td>MAVMAPRTLLLLLSGALALTQTWAGSHSMRYFYTSVSRPGRGEPRF...</td>\n",
              "      <td>YYAMYQENVAQTDVDTLYIIYRDYTWAAQAYRWY</td>\n",
              "      <td>1.0</td>\n",
              "    </tr>\n",
              "    <tr>\n",
              "      <th>1</th>\n",
              "      <td>ATFSVPMEK</td>\n",
              "      <td>HLA-A*11:01</td>\n",
              "      <td>MAVMAPRTLLLLLSGALALTQTWAGSHSMRYFYTSVSRPGRGEPRF...</td>\n",
              "      <td>YYAMYQENVAQTDVDTLYIIYRDYTWAAQAYRWY</td>\n",
              "      <td>1.0</td>\n",
              "    </tr>\n",
              "    <tr>\n",
              "      <th>2</th>\n",
              "      <td>RVFNNYMPY</td>\n",
              "      <td>HLA-A*11:01</td>\n",
              "      <td>MAVMAPRTLLLLLSGALALTQTWAGSHSMRYFYTSVSRPGRGEPRF...</td>\n",
              "      <td>YYAMYQENVAQTDVDTLYIIYRDYTWAAQAYRWY</td>\n",
              "      <td>1.0</td>\n",
              "    </tr>\n",
              "    <tr>\n",
              "      <th>3</th>\n",
              "      <td>ATVVIGTSK</td>\n",
              "      <td>HLA-A*11:01</td>\n",
              "      <td>MAVMAPRTLLLLLSGALALTQTWAGSHSMRYFYTSVSRPGRGEPRF...</td>\n",
              "      <td>YYAMYQENVAQTDVDTLYIIYRDYTWAAQAYRWY</td>\n",
              "      <td>1.0</td>\n",
              "    </tr>\n",
              "    <tr>\n",
              "      <th>4</th>\n",
              "      <td>SSNVANYQK</td>\n",
              "      <td>HLA-A*11:01</td>\n",
              "      <td>MAVMAPRTLLLLLSGALALTQTWAGSHSMRYFYTSVSRPGRGEPRF...</td>\n",
              "      <td>YYAMYQENVAQTDVDTLYIIYRDYTWAAQAYRWY</td>\n",
              "      <td>1.0</td>\n",
              "    </tr>\n",
              "    <tr>\n",
              "      <th>...</th>\n",
              "      <td>...</td>\n",
              "      <td>...</td>\n",
              "      <td>...</td>\n",
              "      <td>...</td>\n",
              "      <td>...</td>\n",
              "    </tr>\n",
              "    <tr>\n",
              "      <th>62643</th>\n",
              "      <td>SYIDRLAPR</td>\n",
              "      <td>HLA-A*33:03</td>\n",
              "      <td>MAVMAPRTLLLLLLGALALTQTWAGSHSMRYFTTSVSRPGRGEPRF...</td>\n",
              "      <td>YTAMYRNNVAHIDVDTLYIMYQDYTWAVLAYTWY</td>\n",
              "      <td>1.0</td>\n",
              "    </tr>\n",
              "    <tr>\n",
              "      <th>62644</th>\n",
              "      <td>VVAAVRWRR</td>\n",
              "      <td>HLA-A*33:03</td>\n",
              "      <td>MAVMAPRTLLLLLLGALALTQTWAGSHSMRYFTTSVSRPGRGEPRF...</td>\n",
              "      <td>YTAMYRNNVAHIDVDTLYIMYQDYTWAVLAYTWY</td>\n",
              "      <td>1.0</td>\n",
              "    </tr>\n",
              "    <tr>\n",
              "      <th>62645</th>\n",
              "      <td>YVFPKPFNR</td>\n",
              "      <td>HLA-A*33:03</td>\n",
              "      <td>MAVMAPRTLLLLLLGALALTQTWAGSHSMRYFTTSVSRPGRGEPRF...</td>\n",
              "      <td>YTAMYRNNVAHIDVDTLYIMYQDYTWAVLAYTWY</td>\n",
              "      <td>1.0</td>\n",
              "    </tr>\n",
              "    <tr>\n",
              "      <th>62646</th>\n",
              "      <td>YVQRFHYSR</td>\n",
              "      <td>HLA-A*33:03</td>\n",
              "      <td>MAVMAPRTLLLLLLGALALTQTWAGSHSMRYFTTSVSRPGRGEPRF...</td>\n",
              "      <td>YTAMYRNNVAHIDVDTLYIMYQDYTWAVLAYTWY</td>\n",
              "      <td>1.0</td>\n",
              "    </tr>\n",
              "    <tr>\n",
              "      <th>62647</th>\n",
              "      <td>YYYYHRQYR</td>\n",
              "      <td>HLA-A*33:03</td>\n",
              "      <td>MAVMAPRTLLLLLLGALALTQTWAGSHSMRYFTTSVSRPGRGEPRF...</td>\n",
              "      <td>YTAMYRNNVAHIDVDTLYIMYQDYTWAVLAYTWY</td>\n",
              "      <td>1.0</td>\n",
              "    </tr>\n",
              "  </tbody>\n",
              "</table>\n",
              "<p>62648 rows × 5 columns</p>\n",
              "</div>\n",
              "      <button class=\"colab-df-convert\" onclick=\"convertToInteractive('df-ec089076-55d0-4102-901f-cf9656cb6879')\"\n",
              "              title=\"Convert this dataframe to an interactive table.\"\n",
              "              style=\"display:none;\">\n",
              "        \n",
              "  <svg xmlns=\"http://www.w3.org/2000/svg\" height=\"24px\"viewBox=\"0 0 24 24\"\n",
              "       width=\"24px\">\n",
              "    <path d=\"M0 0h24v24H0V0z\" fill=\"none\"/>\n",
              "    <path d=\"M18.56 5.44l.94 2.06.94-2.06 2.06-.94-2.06-.94-.94-2.06-.94 2.06-2.06.94zm-11 1L8.5 8.5l.94-2.06 2.06-.94-2.06-.94L8.5 2.5l-.94 2.06-2.06.94zm10 10l.94 2.06.94-2.06 2.06-.94-2.06-.94-.94-2.06-.94 2.06-2.06.94z\"/><path d=\"M17.41 7.96l-1.37-1.37c-.4-.4-.92-.59-1.43-.59-.52 0-1.04.2-1.43.59L10.3 9.45l-7.72 7.72c-.78.78-.78 2.05 0 2.83L4 21.41c.39.39.9.59 1.41.59.51 0 1.02-.2 1.41-.59l7.78-7.78 2.81-2.81c.8-.78.8-2.07 0-2.86zM5.41 20L4 18.59l7.72-7.72 1.47 1.35L5.41 20z\"/>\n",
              "  </svg>\n",
              "      </button>\n",
              "      \n",
              "  <style>\n",
              "    .colab-df-container {\n",
              "      display:flex;\n",
              "      flex-wrap:wrap;\n",
              "      gap: 12px;\n",
              "    }\n",
              "\n",
              "    .colab-df-convert {\n",
              "      background-color: #E8F0FE;\n",
              "      border: none;\n",
              "      border-radius: 50%;\n",
              "      cursor: pointer;\n",
              "      display: none;\n",
              "      fill: #1967D2;\n",
              "      height: 32px;\n",
              "      padding: 0 0 0 0;\n",
              "      width: 32px;\n",
              "    }\n",
              "\n",
              "    .colab-df-convert:hover {\n",
              "      background-color: #E2EBFA;\n",
              "      box-shadow: 0px 1px 2px rgba(60, 64, 67, 0.3), 0px 1px 3px 1px rgba(60, 64, 67, 0.15);\n",
              "      fill: #174EA6;\n",
              "    }\n",
              "\n",
              "    [theme=dark] .colab-df-convert {\n",
              "      background-color: #3B4455;\n",
              "      fill: #D2E3FC;\n",
              "    }\n",
              "\n",
              "    [theme=dark] .colab-df-convert:hover {\n",
              "      background-color: #434B5C;\n",
              "      box-shadow: 0px 1px 3px 1px rgba(0, 0, 0, 0.15);\n",
              "      filter: drop-shadow(0px 1px 2px rgba(0, 0, 0, 0.3));\n",
              "      fill: #FFFFFF;\n",
              "    }\n",
              "  </style>\n",
              "\n",
              "      <script>\n",
              "        const buttonEl =\n",
              "          document.querySelector('#df-ec089076-55d0-4102-901f-cf9656cb6879 button.colab-df-convert');\n",
              "        buttonEl.style.display =\n",
              "          google.colab.kernel.accessAllowed ? 'block' : 'none';\n",
              "\n",
              "        async function convertToInteractive(key) {\n",
              "          const element = document.querySelector('#df-ec089076-55d0-4102-901f-cf9656cb6879');\n",
              "          const dataTable =\n",
              "            await google.colab.kernel.invokeFunction('convertToInteractive',\n",
              "                                                     [key], {});\n",
              "          if (!dataTable) return;\n",
              "\n",
              "          const docLinkHtml = 'Like what you see? Visit the ' +\n",
              "            '<a target=\"_blank\" href=https://colab.research.google.com/notebooks/data_table.ipynb>data table notebook</a>'\n",
              "            + ' to learn more about interactive tables.';\n",
              "          element.innerHTML = '';\n",
              "          dataTable['output_type'] = 'display_data';\n",
              "          await google.colab.output.renderOutput(dataTable, element);\n",
              "          const docLink = document.createElement('div');\n",
              "          docLink.innerHTML = docLinkHtml;\n",
              "          element.appendChild(docLink);\n",
              "        }\n",
              "      </script>\n",
              "    </div>\n",
              "  </div>\n",
              "  "
            ]
          },
          "metadata": {},
          "execution_count": 6
        }
      ]
    },
    {
      "cell_type": "code",
      "source": [
        "# epitops sequence 길이 분포 살펴보기\n",
        "\n",
        "neo['antigen'].apply(lambda x: len(x)).plot.hist()\n",
        "max_seq_epitope = neo['antigen'].apply(lambda x: len(x)).max() # 최대 epitope 길이를 max sequence로 활용하기"
      ],
      "metadata": {
        "colab": {
          "base_uri": "https://localhost:8080/",
          "height": 430
        },
        "id": "x5sCDK8rgyoG",
        "outputId": "6f281fa0-db5b-44f9-9b27-d57f4846523e"
      },
      "execution_count": null,
      "outputs": [
        {
          "output_type": "display_data",
          "data": {
            "text/plain": [
              "<Figure size 640x480 with 1 Axes>"
            ],
            "image/png": "[encoded data removed]"
          },
          "metadata": {}
        }
      ]
    },
    {
      "cell_type": "code",
      "source": [
        "# HLA sequenc 길이 분포 살펴보기 \n",
        "\n",
        "neo['full_seq'].apply(lambda x: len(x)).plot.hist()\n",
        "max_seq_hla = neo['full_seq'].apply(lambda x: len(x)).max() # 최대 HLA 길이를 max sequence로 활용"
      ],
      "metadata": {
        "colab": {
          "base_uri": "https://localhost:8080/",
          "height": 430
        },
        "id": "1NQOZP1Tg1Mx",
        "outputId": "5b9f59f4-c975-4e1c-fd36-f1349de9fb9d"
      },
      "execution_count": null,
      "outputs": [
        {
          "output_type": "display_data",
          "data": {
            "text/plain": [
              "<Figure size 640x480 with 1 Axes>"
            ],
            "image/png": "[encoded data removed]"
          },
          "metadata": {}
        }
      ]
    },
    {
      "cell_type": "markdown",
      "source": [
        "# **Data Preprocessing**"
      ],
      "metadata": {
        "id": "PwMIKoGjg4yl"
      }
    },
    {
      "cell_type": "code",
      "source": [
        "!pip install subword_nmt"
      ],
      "metadata": {
        "colab": {
          "base_uri": "https://localhost:8080/"
        },
        "id": "GQ2PDG7-g4DB",
        "outputId": "acff1c3e-f7c5-4539-a0fc-274cf8e7fb2d"
      },
      "execution_count": null,
      "outputs": [
        {
          "output_type": "stream",
          "name": "stdout",
          "text": [
            "Looking in indexes: https://pypi.org/simple, https://us-python.pkg.dev/colab-wheels/public/simple/\n",
            "Collecting subword_nmt\n",
            "  Downloading subword_nmt-0.3.8-py3-none-any.whl (27 kB)\n",
            "Collecting mock\n",
            "  Downloading mock-5.0.2-py3-none-any.whl (30 kB)\n",
            "Requirement already satisfied: tqdm in /usr/local/lib/python3.10/dist-packages (from subword_nmt) (4.65.0)\n",
            "Installing collected packages: mock, subword_nmt\n",
            "Successfully installed mock-5.0.2 subword_nmt-0.3.8\n"
          ]
        }
      ]
    },
    {
      "cell_type": "code",
      "source": [
        "# Byte Pair Encoding을 위한 라이브러리 \n",
        "from subword_nmt.apply_bpe import BPE"
      ],
      "metadata": {
        "id": "jJgr37Mhg-Xd"
      },
      "execution_count": null,
      "outputs": []
    },
    {
      "cell_type": "markdown",
      "source": [
        "# **Epitope Processing**"
      ],
      "metadata": {
        "id": "BHI4lXNJhAxW"
      }
    },
    {
      "cell_type": "code",
      "source": [
        "amino_char = ['?', 'A', 'C', 'B', 'E', 'D', 'G', 'F', 'I', 'H', 'K', 'M', 'L', 'O',\n",
        "       'N', 'Q', 'P', 'S', 'R', 'U', 'T', 'W', 'V', 'Y', 'X', 'Z']\n",
        "\n",
        "# protein, drug 원핫(one-hot) 인코더\n",
        "enc_protein = OneHotEncoder().fit(np.array(amino_char).reshape(-1, 1))"
      ],
      "metadata": {
        "id": "tqCZSHHUg_kO"
      },
      "execution_count": null,
      "outputs": []
    },
    {
      "cell_type": "code",
      "source": [
        "def trans_protein(x, max_seq_protein):\n",
        "\n",
        "    temp = list(x.upper()) # 대문자로 바꾸기\n",
        "    temp = [i if i in amino_char else '?' for i in temp] # \n",
        "\n",
        "    if len(temp) < max_seq_protein:\n",
        "        # max_seq_protein 보다 작으면 뒷부분을 ?로 채워서 MAX_SEQ_DRUG 길이의 리스트로 만들기\n",
        "        temp = temp + ['?'] * (max_seq_protein - len(temp))\n",
        "    else:\n",
        "        # max_seq_protein 보다 크면 앞에서부터 MAX_SEQ_DRUG 만큼 슬라이싱\n",
        "        temp = temp [:max_seq_protein]\n",
        "\n",
        "    return temp"
      ],
      "metadata": {
        "id": "TBHyjwV9hHHk"
      },
      "execution_count": null,
      "outputs": []
    },
    {
      "cell_type": "markdown",
      "source": [
        "# **HLA Processing**\n",
        "\n",
        "Using Byte Pair Encoding"
      ],
      "metadata": {
        "id": "C73RIp9PhNs_"
      }
    },
    {
      "cell_type": "code",
      "source": [
        "# protein subword data 불러오기\n",
        "\n",
        "vocab_path = shared_dir + \"protein_codes_uniprot_2000.txt\" \n",
        "bpe_codes_protein = open(vocab_path)\n",
        "pbpe = BPE(bpe_codes_protein, merges=-1, separator='')\n",
        "sub_csv = pd.read_csv(shared_dir + \"subword_units_map_uniprot_2000.csv\") # subword vocab"
      ],
      "metadata": {
        "id": "9Md21pQphWfm"
      },
      "execution_count": null,
      "outputs": []
    },
    {
      "cell_type": "code",
      "source": [
        "full_seq = pd.Series(neo[\"full_seq\"])[0]\n",
        "print(full_seq)\n",
        "print(pbpe.process_line(full_seq))"
      ],
      "metadata": {
        "colab": {
          "base_uri": "https://localhost:8080/"
        },
        "id": "d1eqyOAbhYBh",
        "outputId": "8d2945ed-2868-48a1-8ae6-c96b422d1810"
      },
      "execution_count": null,
      "outputs": [
        {
          "output_type": "stream",
          "name": "stdout",
          "text": [
            "MAVMAPRTLLLLLSGALALTQTWAGSHSMRYFYTSVSRPGRGEPRFIAVGYVDDTQFVRFDSDAASQRMEPRAPWIEQEGPEYWDQETRNVKAQSQTDRVDLGTLRGYYNQSEDGSHTIQIMYGCDVGPDGRFLRGYRQDAYDGKDYIALNEDLRSWTAADMAAQITKRKWEAAHAAEQQRAYLEGRCVEWLRRYLENGKETLQRTDPPKTHMTHHPISDHEATLRCWALGFYPAEITLTWQRDGEDQTQDTELVETRPAGDGTFQKWAAVVVPSGEEQRYTCHVQHEGLPKPLTLRWELSSQPTIPIVGIIAGLVLLGAVITGAVVAAVMWRRKSSDRKGGSYTQAASSDSAQGSDVSLTACKV\n",
            "MAV MAP RT LL LLL SG ALAL TQ TW AGS HS MRY FY TS VS RPG RG EP RF I AVG Y VDD TQ FVR F DSD AAS QR ME PR AP WIE QEG PE Y WD QE TR NVK AQ SQ TD RV DLG TL RG YY NQ SE DGS HT IQ IM YG CD VG PDG RFL RG YR QD AY DG KD YI ALNE DL RS W TAA DM AAQ IT KR K WE AA H AAE QQ R AYL EG RC VE WL RR YLE NG KETL QR TD PP KT HM TH HP ISD HE ATL RC W ALG FYP AE ITL TW QR DG ED QT QD TEL VE TR PAG DG TF QK WAA VV VP SG EE QR YT CH VQ HE GL PK PLTL RW ELSS QP TIP IVG II AGL VLLG AV ITG AV VAA VM WRR KSS D RK GG SY TQ AASS DS AQG SD VSL TAC K V\n"
          ]
        }
      ]
    },
    {
      "cell_type": "code",
      "source": [
        "idx2word_p = sub_csv['index'].values\n",
        "words2idx_p = dict(zip(idx2word_p, range(0, len(idx2word_p)))) # subword : index"
      ],
      "metadata": {
        "id": "LIu9EM7VhZvo"
      },
      "execution_count": null,
      "outputs": []
    },
    {
      "cell_type": "code",
      "source": [
        "def hla2emb_encoder(x):\n",
        "    t1 = pbpe.process_line(x).split()  # protein sequence subword로 나누기\n",
        "    try:\n",
        "        i1 = np.asarray([words2idx_p[i] for i in t1])  # 단어 집합에 있는 경우 해당 index 가져오기 \n",
        "    except:\n",
        "        i1 = np.array([0]) # 없는 경우 0으로 채우기\n",
        "\n",
        "    l = len(i1) # 전체 sequence 길이\n",
        "   \n",
        "    if l < max_seq_hla:\n",
        "        # max_seq 보다 작으면 나머지 부분 0으로 채우기\n",
        "        i = np.pad(i1, (0, max_seq_hla - l), 'constant', constant_values = 0) # 0으로 채우기 (zero padding)\n",
        "        input_mask = ([1] * l) + ([0] * (max_seq_hla - l)) # zero padding 한 부분 이 후 transformer에서 masking\n",
        "    else:\n",
        "        # max_seq 보다 크면 max_seq 만큼 앞에서부터 slicing\n",
        "        i = i1[:max_seq_hla]\n",
        "        input_mask = [1] * max_seq_hla \n",
        "        \n",
        "    return i, np.asarray(input_mask)"
      ],
      "metadata": {
        "id": "ZBjJrUMkhbWm"
      },
      "execution_count": null,
      "outputs": []
    },
    {
      "cell_type": "code",
      "source": [
        "t1 = pbpe.process_line(full_seq).split()  # protein sequence subword로 나누기\n",
        "\n",
        "try:\n",
        "    i1 = np.asarray([words2idx_p[i] for i in t1])  # 단어 집합에 있는 경우 해당 index 가져오기 \n",
        "except:\n",
        "    i1 = np.array([0]) # 없는 경우 0으로 채우기\n",
        "\n",
        "i1"
      ],
      "metadata": {
        "colab": {
          "base_uri": "https://localhost:8080/"
        },
        "id": "aNNaHSK1hdNv",
        "outputId": "23763dbf-003c-4e80-eb62-074ae368139e"
      },
      "execution_count": null,
      "outputs": [
        {
          "output_type": "execute_result",
          "data": {
            "text/plain": [
              "array([ 873, 1560,  159,   25,  194,   45, 1701,  172,  347,  482,  158,\n",
              "       2934,  204,   94,   64,  806,   78,  249,  153,   22,  326,   12,\n",
              "        789,  172, 1382,    3,  971,  381,  136,  137,  260,   83, 2360,\n",
              "        730,   65,   12,  331,  104,  135, 1307,   72,  276,  127,  200,\n",
              "        352,   35,   78,  250,  288,   88,  589,  297,  144,  293,  108,\n",
              "        303,   58, 1015,  786,   78,  257,  156,  114,   73,  112,  325,\n",
              "       3850,   36,  107,   23,  443,  360,  975,   79,  110,   15,  302,\n",
              "         26,   24,  332,   98,   18,  425,  146,  370,   54,  145,   61,\n",
              "        800,   81, 3239,  136,  127,  115,  116,  590,  215,  175,  835,\n",
              "        170,  274,  370,   23,  251, 2778,   43,  686,  347,  136,   73,\n",
              "        191,  205,  156,  666,   54,  135,  983,   73,  147,  196, 1940,\n",
              "         42,   90,   45,   34,  136,  272,  496,  120,  170,   29,  280,\n",
              "       3403,  372, 3357,  163, 1254,  558,  122,  218, 2673,   39,  696,\n",
              "         39,  299,  155, 2164,  659,   21,  168,   32,  296,  172, 3275,\n",
              "        106,  479,  165,  397, 2371,   15,    6])"
            ]
          },
          "metadata": {},
          "execution_count": 26
        }
      ]
    },
    {
      "cell_type": "code",
      "source": [
        "def create_fold(df, fold_seed, frac):\n",
        "\n",
        "    train_frac, val_frac, test_frac = frac \n",
        "\n",
        "    # Test 데이터 random sampling\n",
        "    test = df.sample(frac = test_frac, replace = False, random_state = fold_seed)\n",
        "    train_val = df[~df.index.isin(test.index)] # Train & Validation 데이터 \n",
        "\n",
        "    # Validation 데이터 random sampling\n",
        "    val = train_val.sample(frac = val_frac/(1-test_frac), replace = False, random_state = 1)\n",
        "    train = train_val[~train_val.index.isin(val.index)] # Train 데이터\n",
        "    \n",
        "    return train, val, test"
      ],
      "metadata": {
        "id": "-4BIvCKRhedf"
      },
      "execution_count": null,
      "outputs": []
    },
    {
      "cell_type": "code",
      "source": [
        "def process_data(df, seed, frac):\n",
        "    \n",
        "    # epitope 데이터 중 중복되지 않는 것만 processing\n",
        "    AA = pd.Series(df['antigen'].unique()).apply(lambda x: trans_protein(x, max_seq_epitope))\n",
        "    # raw epitope : processed epitope \n",
        "    AA_dict = dict(zip(df['antigen'].unique(), AA))\n",
        "    # 전체 데이터 processing\n",
        "    df['antigen_processed'] = [AA_dict[i] for i in df['antigen']]\n",
        "\n",
        "    # HLA seq 데이터 중 중복되지 않는 것만 processing\n",
        "    AA = pd.Series(neo[\"full_seq\"].unique()).apply(hla2emb_encoder)\n",
        "    # HLA seq : BPE encoded seq 딕셔너리 \n",
        "    AA_dict = dict(zip(neo[\"full_seq\"].unique(), AA))\n",
        "    # 전체 데이터 processing\n",
        "    neo[\"hla_processed\"] = [AA_dict[i] for i in neo[\"full_seq\"]]\n",
        "\n",
        "    train, val, test = create_fold(df, seed, frac)\n",
        "\n",
        "    return train, val, test"
      ],
      "metadata": {
        "id": "Iaxge_3qhiMV"
      },
      "execution_count": null,
      "outputs": []
    },
    {
      "cell_type": "code",
      "source": [
        "train, val, test = process_data(neo, 22, [0.7,0.1,0.2])"
      ],
      "metadata": {
        "id": "AjvjNwzshkDm"
      },
      "execution_count": null,
      "outputs": []
    },
    {
      "cell_type": "code",
      "source": [
        "def protein_2_embed(x):\n",
        "    return enc_protein.transform(np.array(x).reshape(-1,1)).toarray().T"
      ],
      "metadata": {
        "id": "2OGJiVHDhlHV"
      },
      "execution_count": null,
      "outputs": []
    },
    {
      "cell_type": "markdown",
      "source": [
        "# **Torch Dataset & DataLoader**"
      ],
      "metadata": {
        "id": "wPGj2W-Phmvf"
      }
    },
    {
      "cell_type": "code",
      "source": [
        "class data_process_loader(Dataset):\n",
        "    def __init__(self, df):\n",
        "        self.df = df\n",
        "\n",
        "    def __len__(self):\n",
        "        return self.df.shape[0] \n",
        "\n",
        "    def __getitem__(self, index):\n",
        "        # Epitope\n",
        "        v_e = self.df.iloc[index]['antigen_processed'] \n",
        "        v_e = protein_2_embed(v_e) \n",
        "\n",
        "        # HLA seq \n",
        "        v_h = self.df.iloc[index]['hla_processed'] \n",
        "        # v_h = protein_2_embed(v_h) \n",
        "\n",
        "        # Binding affinity (label)\n",
        "        y = self.df.iloc[index]['label'] \n",
        "\n",
        "        return v_e, v_h, y"
      ],
      "metadata": {
        "id": "GNPNxYakhsyP"
      },
      "execution_count": null,
      "outputs": []
    },
    {
      "cell_type": "code",
      "source": [
        "train_dataset = data_process_loader(train)\n",
        "val_dataset = data_process_loader(val)\n",
        "test_dataset = data_process_loader(test)"
      ],
      "metadata": {
        "id": "YMUz_l05hw-9"
      },
      "execution_count": null,
      "outputs": []
    },
    {
      "cell_type": "code",
      "source": [
        "# Dataset 확인 해보기 \n",
        "\n",
        "for (v_e, v_h, y) in train_dataset:\n",
        "    print(v_e.shape)\n",
        "    print(v_h[0].shape)\n",
        "    print(v_h[1].shape)\n",
        "    print(y)\n",
        "    break"
      ],
      "metadata": {
        "colab": {
          "base_uri": "https://localhost:8080/"
        },
        "id": "Udxq18b3hyQI",
        "outputId": "f7df1463-01b0-48f1-f4b6-4fd80ed79ac1"
      },
      "execution_count": null,
      "outputs": [
        {
          "output_type": "stream",
          "name": "stdout",
          "text": [
            "(26, 12)\n",
            "(366,)\n",
            "(366,)\n",
            "1.0\n"
          ]
        }
      ]
    },
    {
      "cell_type": "code",
      "source": [
        "# DataLoader Hyperparameter\n",
        "\n",
        "params = {'batch_size': 256,\n",
        "            'shuffle': True,\n",
        "            'num_workers': 1,\n",
        "            'drop_last': False}"
      ],
      "metadata": {
        "id": "UUibo4ZhhzfN"
      },
      "execution_count": null,
      "outputs": []
    },
    {
      "cell_type": "code",
      "source": [
        "# Mini-batch 학습을 위한 DataLoader\n",
        "\n",
        "training_generator = DataLoader(train_dataset, **params)\n",
        "valid_generator = DataLoader(val_dataset, **params)\n",
        "test_generator = DataLoader(test_dataset, **params)"
      ],
      "metadata": {
        "id": "7wOzQdlch3cD"
      },
      "execution_count": null,
      "outputs": []
    },
    {
      "cell_type": "code",
      "source": [
        "# Dataloader 확인해보기 \n",
        "\n",
        "for (v_e, v_h, y) in training_generator:\n",
        "    print(v_e.shape)\n",
        "    print(v_h[0].shape)\n",
        "    print(v_h[1].shape)\n",
        "    print(y)\n",
        "    break"
      ],
      "metadata": {
        "colab": {
          "base_uri": "https://localhost:8080/"
        },
        "id": "-L2IoL9Bh5Yy",
        "outputId": "ee2efe23-05a0-45a5-f196-c9e23dd6f269"
      },
      "execution_count": null,
      "outputs": [
        {
          "output_type": "stream",
          "name": "stdout",
          "text": [
            "torch.Size([256, 26, 12])\n",
            "torch.Size([256, 366])\n",
            "torch.Size([256, 366])\n",
            "tensor([1., 0., 0., 1., 0., 0., 1., 1., 0., 0., 0., 0., 0., 1., 0., 0., 0., 1.,\n",
            "        1., 0., 0., 0., 1., 0., 0., 0., 0., 1., 0., 0., 0., 0., 0., 0., 1., 0.,\n",
            "        0., 0., 0., 0., 0., 0., 1., 0., 0., 0., 1., 0., 0., 0., 0., 1., 0., 0.,\n",
            "        0., 0., 0., 0., 0., 0., 0., 0., 0., 0., 0., 0., 0., 0., 0., 0., 0., 0.,\n",
            "        0., 0., 1., 0., 0., 0., 1., 0., 1., 0., 1., 0., 0., 0., 0., 0., 1., 0.,\n",
            "        0., 0., 0., 0., 0., 1., 0., 0., 0., 0., 0., 0., 1., 0., 1., 1., 0., 0.,\n",
            "        1., 1., 0., 0., 0., 1., 0., 0., 0., 0., 1., 0., 1., 0., 0., 0., 0., 0.,\n",
            "        0., 0., 1., 1., 0., 0., 0., 0., 0., 0., 0., 0., 0., 0., 0., 0., 0., 0.,\n",
            "        1., 0., 1., 0., 0., 0., 0., 0., 0., 0., 0., 0., 0., 0., 1., 1., 1., 0.,\n",
            "        0., 0., 0., 1., 0., 0., 1., 0., 0., 1., 0., 0., 1., 0., 1., 1., 0., 0.,\n",
            "        1., 0., 0., 0., 0., 0., 0., 0., 0., 0., 0., 0., 0., 0., 0., 0., 0., 0.,\n",
            "        0., 0., 0., 0., 0., 0., 0., 0., 0., 0., 0., 0., 0., 0., 1., 0., 1., 0.,\n",
            "        0., 0., 0., 1., 1., 1., 0., 0., 1., 0., 1., 0., 1., 1., 0., 0., 0., 0.,\n",
            "        0., 0., 1., 0., 0., 0., 1., 1., 0., 0., 0., 1., 0., 1., 1., 0., 0., 0.,\n",
            "        0., 0., 1., 0.], dtype=torch.float64)\n"
          ]
        }
      ]
    },
    {
      "cell_type": "code",
      "source": [
        "for (v_e, v_h, y) in valid_generator:\n",
        "    print(v_e.shape)\n",
        "    print(v_h[0].shape)\n",
        "    print(v_h[1].shape)\n",
        "    print(y)\n",
        "    break"
      ],
      "metadata": {
        "colab": {
          "base_uri": "https://localhost:8080/"
        },
        "id": "euJCURUdh6mx",
        "outputId": "9546eec3-c435-4298-bcdd-0dc5fed3658e"
      },
      "execution_count": null,
      "outputs": [
        {
          "output_type": "stream",
          "name": "stdout",
          "text": [
            "torch.Size([256, 26, 12])\n",
            "torch.Size([256, 366])\n",
            "torch.Size([256, 366])\n",
            "tensor([0., 0., 0., 1., 0., 0., 0., 0., 1., 0., 0., 0., 1., 0., 0., 0., 1., 0.,\n",
            "        0., 0., 0., 0., 1., 0., 0., 0., 0., 1., 0., 0., 0., 0., 0., 0., 0., 0.,\n",
            "        1., 0., 1., 0., 0., 0., 0., 0., 1., 0., 1., 1., 0., 0., 1., 1., 0., 1.,\n",
            "        0., 0., 0., 0., 0., 1., 0., 0., 1., 1., 0., 0., 0., 0., 0., 0., 0., 0.,\n",
            "        0., 0., 0., 0., 1., 0., 0., 0., 0., 0., 1., 0., 0., 0., 0., 1., 0., 0.,\n",
            "        1., 0., 1., 0., 0., 0., 1., 0., 0., 0., 0., 1., 1., 0., 0., 1., 1., 0.,\n",
            "        0., 0., 1., 0., 0., 0., 0., 0., 1., 0., 0., 0., 0., 1., 1., 0., 0., 1.,\n",
            "        0., 0., 0., 0., 0., 1., 0., 0., 0., 0., 0., 0., 1., 1., 0., 0., 0., 0.,\n",
            "        0., 0., 0., 0., 1., 0., 1., 0., 1., 1., 0., 0., 0., 0., 0., 0., 0., 0.,\n",
            "        0., 0., 1., 1., 1., 1., 0., 0., 0., 1., 0., 0., 1., 1., 0., 0., 0., 0.,\n",
            "        0., 0., 0., 1., 0., 0., 0., 0., 0., 0., 0., 0., 0., 0., 1., 0., 0., 1.,\n",
            "        0., 1., 1., 1., 0., 0., 0., 1., 0., 0., 0., 0., 0., 0., 0., 0., 0., 0.,\n",
            "        1., 0., 0., 1., 0., 1., 0., 0., 0., 0., 0., 1., 0., 0., 1., 0., 0., 0.,\n",
            "        0., 0., 1., 0., 0., 0., 0., 1., 1., 0., 0., 0., 0., 0., 1., 0., 0., 0.,\n",
            "        0., 1., 0., 0.], dtype=torch.float64)\n"
          ]
        }
      ]
    },
    {
      "cell_type": "code",
      "source": [
        "for (v_e, v_h, y) in test_generator:\n",
        "    print(v_e.shape)\n",
        "    print(v_h[0].shape)\n",
        "    print(v_h[1].shape)\n",
        "    print(y)\n",
        "    break"
      ],
      "metadata": {
        "colab": {
          "base_uri": "https://localhost:8080/"
        },
        "id": "5WsBJzXEh8XW",
        "outputId": "4bfc0e10-0ecc-403f-d57d-0f4572d618e2"
      },
      "execution_count": null,
      "outputs": [
        {
          "output_type": "stream",
          "name": "stdout",
          "text": [
            "torch.Size([256, 26, 12])\n",
            "torch.Size([256, 366])\n",
            "torch.Size([256, 366])\n",
            "tensor([0., 0., 0., 0., 1., 0., 0., 0., 0., 0., 1., 0., 1., 0., 0., 0., 0., 1.,\n",
            "        1., 0., 1., 0., 0., 1., 0., 0., 0., 0., 0., 0., 0., 1., 0., 0., 0., 1.,\n",
            "        0., 0., 0., 1., 0., 1., 0., 0., 0., 0., 0., 1., 0., 0., 0., 1., 0., 1.,\n",
            "        0., 0., 1., 0., 1., 0., 1., 1., 0., 0., 0., 0., 1., 0., 0., 0., 0., 0.,\n",
            "        1., 0., 0., 0., 0., 0., 0., 0., 1., 0., 0., 0., 0., 1., 0., 0., 0., 1.,\n",
            "        0., 0., 1., 0., 0., 0., 1., 0., 0., 0., 1., 0., 0., 0., 0., 1., 1., 0.,\n",
            "        0., 0., 0., 0., 0., 0., 0., 0., 0., 0., 0., 0., 1., 1., 1., 0., 0., 0.,\n",
            "        0., 0., 0., 0., 1., 0., 0., 0., 0., 0., 0., 0., 0., 1., 0., 1., 0., 0.,\n",
            "        1., 0., 0., 0., 1., 0., 0., 1., 0., 0., 0., 1., 0., 0., 0., 1., 1., 0.,\n",
            "        0., 0., 1., 0., 0., 0., 0., 1., 0., 0., 0., 1., 0., 0., 0., 0., 0., 0.,\n",
            "        0., 0., 0., 0., 0., 0., 0., 0., 0., 0., 0., 1., 0., 1., 0., 0., 1., 0.,\n",
            "        0., 0., 0., 1., 0., 0., 1., 0., 0., 0., 0., 0., 0., 0., 0., 0., 0., 1.,\n",
            "        1., 0., 0., 1., 1., 0., 1., 0., 0., 0., 0., 0., 0., 0., 0., 0., 0., 0.,\n",
            "        0., 1., 0., 0., 1., 1., 0., 0., 0., 1., 1., 0., 0., 0., 1., 0., 0., 0.,\n",
            "        0., 1., 0., 1.], dtype=torch.float64)\n"
          ]
        }
      ]
    },
    {
      "cell_type": "markdown",
      "source": [
        "# **MODEL Training**"
      ],
      "metadata": {
        "id": "mwRNEIrOh-44"
      }
    },
    {
      "cell_type": "code",
      "source": [
        "config = {\n",
        "    # epitope 설정 (CNN)\n",
        "    \"cnn_epitope_filters\" : [32,64,96],\n",
        "    \"cnn_epitope_kernels\" : [3,3,3],\n",
        "    'hidden_dim_epitope': 128, \n",
        "    'max_seq_epitope' : max_seq_epitope,\n",
        "\n",
        "    # HLA (tranformer)\n",
        "    'input_dim_hla': 4114, # subword vocab 크기\n",
        "    'hidden_dim_hla': 64, # transformer embedding 크기\n",
        "    'transformer_attention_probs_dropout': 0.1, # self-attention 연산 과정에서 적용되는 dropout \n",
        "    'transformer_dropout_rate': 0.1, # word embedding - layer norm 이 후 적용되는 dropout\n",
        "    'transformer_emb_size': 64, # word embedding 후 크기\n",
        "    'transformer_hidden_dropout_rate': 0.1, # MLP에서 적용되는 dropout\n",
        "    'transformer_intermediate_size': 256, # self-attention 이 후 MLP\n",
        "    'transformer_n_layer': 2, # transformer 인코더 개수\n",
        "    'transformer_num_attention_heads': 4, # self attention 시 head 개수\n",
        "    \n",
        "    # classifier\n",
        "    'cls_hidden_dims': [1024, 1024, 512], \n",
        "    }"
      ],
      "metadata": {
        "id": "QEKFS3P-h-Bq"
      },
      "execution_count": null,
      "outputs": []
    },
    {
      "cell_type": "markdown",
      "source": [
        "**CNN Embedding**"
      ],
      "metadata": {
        "id": "kFmztOyuiHnb"
      }
    },
    {
      "cell_type": "code",
      "source": [
        "class CNN(nn.Sequential):\n",
        "    def __init__(self, encoding, **config):\n",
        "        super(CNN, self).__init__()\n",
        "\n",
        "        in_ch = [26] + config[f'cnn_{encoding}_filters']\n",
        "        kernels = config[f'cnn_{encoding}_kernels']\n",
        "        layer_size = len(config[f'cnn_{encoding}_filters'])\n",
        "\n",
        "        self.conv = nn.ModuleList([nn.Conv1d(in_channels = in_ch[i], \n",
        "                                    out_channels = in_ch[i+1], \n",
        "                                    kernel_size = kernels[i]) for i in range(layer_size)])\n",
        "        \n",
        "        self.conv = self.conv.double()\n",
        "\n",
        "        max_seq = config[f'max_seq_{encoding}']\n",
        "        n_size_d = self._get_conv_output((26, max_seq))\n",
        "        self.fc1 = nn.Linear(n_size_d, config[f'hidden_dim_{encoding}'])\n",
        "\n",
        "    def _get_conv_output(self, shape):\n",
        "        bs = 1\n",
        "        input = Variable(torch.rand(bs, *shape))\n",
        "        output_feat = self._forward_features(input.double())\n",
        "        n_size = output_feat.data.view(bs, -1).size(1)\n",
        "        return n_size\n",
        "\n",
        "    def _forward_features(self, x):\n",
        "        for l in self.conv:\n",
        "            x = F.relu(l(x))\n",
        "        x = F.adaptive_max_pool1d(x, output_size=1)\n",
        "        return x\n",
        "\n",
        "    def forward(self, v):\n",
        "        v = self._forward_features(v.double())\n",
        "        v = v.view(v.size(0), -1)\n",
        "        v = self.fc1(v.float())\n",
        "        return v"
      ],
      "metadata": {
        "id": "m_NNXyq-iKMZ"
      },
      "execution_count": null,
      "outputs": []
    },
    {
      "cell_type": "markdown",
      "source": [
        "**Transformer Embedding**"
      ],
      "metadata": {
        "id": "rCIuTtZKiMj3"
      }
    },
    {
      "cell_type": "code",
      "source": [
        "import copy\n",
        "import math\n",
        "import collections"
      ],
      "metadata": {
        "id": "zllZt3gciQql"
      },
      "execution_count": null,
      "outputs": []
    },
    {
      "cell_type": "code",
      "source": [
        "class LayerNorm(nn.Module):\n",
        "    def __init__(self, hidden_size, variance_epsilon=1e-12):\n",
        "\n",
        "        super(LayerNorm, self).__init__()\n",
        "        self.gamma = nn.Parameter(torch.ones(hidden_size))\n",
        "        self.beta = nn.Parameter(torch.zeros(hidden_size))\n",
        "        self.variance_epsilon = variance_epsilon\n",
        "\n",
        "    def forward(self, x):\n",
        "        u = x.mean(-1, keepdim=True)\n",
        "        s = (x - u).pow(2).mean(-1, keepdim=True)\n",
        "        x = (x - u) / torch.sqrt(s + self.variance_epsilon)\n",
        "        return self.gamma * x + self.beta\n",
        "\n",
        "\n",
        "class Embeddings(nn.Module):\n",
        "    def __init__(self, vocab_size, hidden_size, max_position_size, dropout_rate):\n",
        "        super(Embeddings, self).__init__()\n",
        "        self.word_embeddings = nn.Embedding(vocab_size, hidden_size) \n",
        "        self.position_embeddings = nn.Embedding(max_position_size, hidden_size)\n",
        "\n",
        "        self.LayerNorm = LayerNorm(hidden_size)\n",
        "        self.dropout = nn.Dropout(dropout_rate)\n",
        "\n",
        "    def forward(self, input_ids):\n",
        "        seq_length = input_ids.size(1) # input squence 크기\n",
        "        position_ids = torch.arange(seq_length, dtype=torch.long, device=input_ids.device) # [0, ... ,input sequence size] \n",
        "        position_ids = position_ids.unsqueeze(0).expand_as(input_ids) # (sequence_size, ) -> (batch size, sequence_size) \n",
        "        \n",
        "        words_embeddings = self.word_embeddings(input_ids) # (batch size, sequence_size) -> (batch size, sequence_size, hidden_size) \n",
        "        position_embeddings = self.position_embeddings(position_ids) # (batch size, sequence_size) -> (batch size, sequence_size, hidden_size)\n",
        "\n",
        "        # input embedding 에 postional encodding 더해주기\n",
        "        embeddings = words_embeddings + position_embeddings \n",
        "        # Layer normalizaton\n",
        "        embeddings = self.LayerNorm(embeddings)\n",
        "        # dropout 적용 \n",
        "        embeddings = self.dropout(embeddings) \n",
        "        return embeddings"
      ],
      "metadata": {
        "id": "-EQZUNZgiST2"
      },
      "execution_count": null,
      "outputs": []
    },
    {
      "cell_type": "code",
      "source": [
        "class SelfAttention(nn.Module):\n",
        "    def __init__(self, hidden_size, num_attention_heads, attention_probs_dropout_prob):\n",
        "        super(SelfAttention, self).__init__()\n",
        "        if hidden_size % num_attention_heads != 0:\n",
        "            # head의 개수가 hidden_size의 약수가 아니면 오류 출력\n",
        "            raise ValueError(\n",
        "                \"The hidden size (%d) is not a multiple of the number of attention \"\n",
        "                \"heads (%d)\" % (hidden_size, num_attention_heads))\n",
        "        \n",
        "        self.num_attention_heads = num_attention_heads # MSA에서 head 개수\n",
        "        self.attention_head_size = int(hidden_size / num_attention_heads) # 각 헤드에서 query, key, value 차원 크기\n",
        "        self.all_head_size = hidden_size # attention_head_size * num_attention_heads\n",
        "\n",
        "        # Query, Key, Value parameter 생성 (hidden_size x (attention_head_size * num_attention_heads))\n",
        "        self.query = nn.Linear(hidden_size, self.all_head_size) \n",
        "        self.key = nn.Linear(hidden_size, self.all_head_size)\n",
        "        self.value = nn.Linear(hidden_size, self.all_head_size)\n",
        "        \n",
        "        self.dropout = nn.Dropout(attention_probs_dropout_prob)\n",
        "\n",
        "    def transpose_for_scores(self, x):\n",
        "        new_x_shape = x.size()[:-1] + (self.num_attention_heads, self.attention_head_size) # (batch_size x vocab_size x num_attention_heads x attention_head_size)\n",
        "        x = x.view(*new_x_shape)\n",
        "        return x.permute(0, 2, 1, 3) # (batch_size x num_attention_heads x vocab_size  x attention_head_size)\n",
        "\n",
        "    def forward(self, hidden_states, attention_mask):\n",
        "        # 모든 head의 query, key, value matrix 한번에 생성하기\n",
        "        mixed_query_layer = self.query(hidden_states)\n",
        "        mixed_key_layer = self.key(hidden_states)\n",
        "        mixed_value_layer = self.value(hidden_states)\n",
        "\n",
        "        # 헤드 별로 qurey, key, value matrix 나누기\n",
        "        query_layer = self.transpose_for_scores(mixed_query_layer)\n",
        "        key_layer = self.transpose_for_scores(mixed_key_layer)\n",
        "        value_layer = self.transpose_for_scores(mixed_value_layer)\n",
        "\n",
        "        # query, key matrix 곱으로 attention scores 구하기\n",
        "        attention_scores = torch.matmul(query_layer, key_layer.transpose(-1, -2))\n",
        "        # attention_head_size로 scaling\n",
        "        attention_scores = attention_scores / math.sqrt(self.attention_head_size) \n",
        "        # attention mask 값 더하기 (masking 할 부분에 매우 작은 음수 값 더해주기)\n",
        "        attention_scores = attention_scores + attention_mask\n",
        "\n",
        "        # softmax를 이용하여 attention score [0,1]의 값으로 만들기\n",
        "        attention_probs = nn.Softmax(dim=-1)(attention_scores)\n",
        "\n",
        "        # self attention 이 후 dropout \n",
        "        attention_probs = self.dropout(attention_probs)\n",
        "\n",
        "        # [0,1]의 attention score로 각 토큰 value의 가중합 구하기 \n",
        "        context_layer = torch.matmul(attention_probs, value_layer)\n",
        "\n",
        "        context_layer = context_layer.permute(0, 2, 1, 3).contiguous() # (batch_size x vocab_size x num_attention_heads x attention_head_size)\n",
        "        new_context_layer_shape = context_layer.size()[:-2] + (self.all_head_size,) # (batch_size x vocab_size x all_head_size)\n",
        "        context_layer = context_layer.view(*new_context_layer_shape)\n",
        "\n",
        "        return context_layer\n",
        "    \n",
        "\n",
        "class SelfOutput(nn.Module):\n",
        "    def __init__(self, hidden_size, hidden_dropout_prob):\n",
        "        super(SelfOutput, self).__init__()\n",
        "        self.dense = nn.Linear(hidden_size, hidden_size)\n",
        "        self.LayerNorm = LayerNorm(hidden_size)\n",
        "        self.dropout = nn.Dropout(hidden_dropout_prob)\n",
        "\n",
        "    def forward(self, hidden_states, input_tensor):\n",
        "        hidden_states = self.dense(hidden_states)\n",
        "        hidden_states = self.dropout(hidden_states)\n",
        "        hidden_states = self.LayerNorm(hidden_states + input_tensor)\n",
        "        return hidden_states    \n",
        "    \n",
        "    \n",
        "class Attention(nn.Module):\n",
        "    def __init__(self, hidden_size, num_attention_heads, attention_probs_dropout_prob, hidden_dropout_prob):\n",
        "        super(Attention, self).__init__()\n",
        "        self.self_attention = SelfAttention(hidden_size, num_attention_heads, attention_probs_dropout_prob)\n",
        "        self.self_output = SelfOutput(hidden_size, hidden_dropout_prob)\n",
        "\n",
        "    def forward(self, input_tensor, attention_mask):\n",
        "        self_output = self.self_attention(input_tensor, attention_mask)\n",
        "        attention_output = self.self_output(self_output, input_tensor)\n",
        "        return attention_output    "
      ],
      "metadata": {
        "id": "HFAQ4lC0iXqi"
      },
      "execution_count": null,
      "outputs": []
    },
    {
      "cell_type": "markdown",
      "source": [
        "**MLP Embedding**"
      ],
      "metadata": {
        "id": "KdytwP57inxd"
      }
    },
    {
      "cell_type": "code",
      "source": [
        "class Intermediate(nn.Module):\n",
        "    def __init__(self, hidden_size, intermediate_size):\n",
        "        super(Intermediate, self).__init__()\n",
        "        self.dense = nn.Linear(hidden_size, intermediate_size)\n",
        "\n",
        "    def forward(self, hidden_states):   \n",
        "        hidden_states = self.dense(hidden_states)\n",
        "        hidden_states = F.relu(hidden_states)\n",
        "        return hidden_states\n",
        "\n",
        "class Output(nn.Module):\n",
        "    def __init__(self, intermediate_size, hidden_size, hidden_dropout_prob):\n",
        "        super(Output, self).__init__()\n",
        "        self.dense = nn.Linear(intermediate_size, hidden_size)\n",
        "        self.LayerNorm = LayerNorm(hidden_size)\n",
        "        self.dropout = nn.Dropout(hidden_dropout_prob)\n",
        "\n",
        "    def forward(self, hidden_states, input_tensor):\n",
        "        hidden_states = self.dense(hidden_states)\n",
        "        hidden_states = self.dropout(hidden_states)\n",
        "        hidden_states = self.LayerNorm(hidden_states + input_tensor)\n",
        "        return hidden_states"
      ],
      "metadata": {
        "id": "LyX_O3aRiqzz"
      },
      "execution_count": null,
      "outputs": []
    },
    {
      "cell_type": "markdown",
      "source": [
        "**Encoder (Self Attention Block + MLP)**"
      ],
      "metadata": {
        "id": "U1ydyX33iviw"
      }
    },
    {
      "cell_type": "code",
      "source": [
        "# SA + MLP\n",
        "class Encoder(nn.Module):\n",
        "    def __init__(self, hidden_size, intermediate_size, num_attention_heads, attention_probs_dropout_prob, hidden_dropout_prob):\n",
        "        super(Encoder, self).__init__()\n",
        "        self.attention = Attention(hidden_size, num_attention_heads, attention_probs_dropout_prob, hidden_dropout_prob)\n",
        "        self.intermediate = Intermediate(hidden_size, intermediate_size)\n",
        "        self.output = Output(intermediate_size, hidden_size, hidden_dropout_prob)\n",
        "\n",
        "    def forward(self, hidden_states, attention_mask):\n",
        "        attention_output = self.attention(hidden_states, attention_mask)\n",
        "        intermediate_output = self.intermediate(attention_output)\n",
        "        layer_output = self.output(intermediate_output, attention_output)\n",
        "        return layer_output    \n",
        "\n",
        "# n_layer 만큼 encoder 쌓기\n",
        "class Encoder_MultipleLayers(nn.Module):\n",
        "    def __init__(self, n_layer, hidden_size, intermediate_size, num_attention_heads, attention_probs_dropout_prob, hidden_dropout_prob):\n",
        "        super(Encoder_MultipleLayers, self).__init__()\n",
        "        layer = Encoder(hidden_size, intermediate_size, num_attention_heads, attention_probs_dropout_prob, hidden_dropout_prob)\n",
        "        self.layer = nn.ModuleList([copy.deepcopy(layer) for _ in range(n_layer)])    \n",
        "\n",
        "    def forward(self, hidden_states, attention_mask, output_all_encoded_layers=True):\n",
        "        all_encoder_layers = []\n",
        "        for layer_module in self.layer:\n",
        "            hidden_states = layer_module(hidden_states, attention_mask)\n",
        "            #if output_all_encoded_layers:\n",
        "            #    all_encoder_layers.append(hidden_states)\n",
        "        #if not output_all_encoded_layers:\n",
        "        #    all_encoder_layers.append(hidden_states)\n",
        "        return hidden_states"
      ],
      "metadata": {
        "id": "aZ0ows2-i3EP"
      },
      "execution_count": null,
      "outputs": []
    },
    {
      "cell_type": "markdown",
      "source": [
        "**Transformer Embedder**"
      ],
      "metadata": {
        "id": "inEPdxuli5hX"
      }
    },
    {
      "cell_type": "code",
      "source": [
        "class transformer(nn.Sequential):\n",
        "    def __init__(self, encoding, **config):\n",
        "        super(transformer, self).__init__()\n",
        "\t\t\n",
        "        if encoding == 'hla':\n",
        "            self.emb = Embeddings(config['input_dim_hla'], config['transformer_emb_size'], 366, config['transformer_dropout_rate'])\n",
        "            self.encoder = Encoder_MultipleLayers(config['transformer_n_layer'], \n",
        "                                                config['transformer_emb_size'], \n",
        "                                                config['transformer_intermediate_size'], \n",
        "                                                config['transformer_num_attention_heads'],\n",
        "                                                config['transformer_attention_probs_dropout'],\n",
        "                                                config['transformer_hidden_dropout_rate'])\n",
        "\n",
        "    ### parameter v (tuple of length 2) is from utils.drug2emb_encoder \n",
        "    def forward(self, v): \n",
        "        e = v[0].long().to(device) # subword encoding 된 input\n",
        "        e_mask = v[1].long().to(device) # masking table (0 또는 1 값만 가짐)\n",
        "        ex_e_mask = e_mask.unsqueeze(1).unsqueeze(2)  \n",
        "        ex_e_mask = (1.0 - ex_e_mask) * -10000.0 # (if 0 -> 매우 작은 음수 값, else -> 0 )\n",
        "\n",
        "        emb = self.emb(e) # word embedding - postional encodding - layer normalization 진행\n",
        "        encoded_layers = self.encoder(emb.float(), ex_e_mask.float()) # self-attention block + MLP embedding layer\n",
        "        return encoded_layers[:,0]"
      ],
      "metadata": {
        "id": "IfogDV4Ki9kX"
      },
      "execution_count": null,
      "outputs": []
    },
    {
      "cell_type": "code",
      "source": [
        "class Classifier(nn.Sequential):\n",
        "\tdef __init__(self, model_epitope, model_hla, **config):\n",
        "\t\tsuper(Classifier, self).__init__()\n",
        "\n",
        "\t\tself.input_dim_epitope = config['hidden_dim_epitope'] # epitope feature 사이즈\n",
        "\t\tself.input_dim_hla = config['hidden_dim_hla'] # hla feature 사이즈\n",
        "\n",
        "\t\tself.model_epitope = model_epitope # epitope 임베딩 모델\n",
        "\t\tself.model_hla = model_hla # hla 임베딩 모델\n",
        "\n",
        "\t\tself.dropout = nn.Dropout(0.1) # dropout 적용\n",
        "\n",
        "\t\tself.hidden_dims = config['cls_hidden_dims'] # classifier hidden dimensions\n",
        "\t\tlayer_size = len(self.hidden_dims) + 1 # hidden layer 개수\n",
        "\t\tdims = [self.input_dim_epitope + self.input_dim_hla] + self.hidden_dims + [1] # [\"합쳐진 feature 차원 (epitope + hla), hidden1, hidden2, hidden3, 1 (output layer)] \n",
        "\t\t\n",
        "\t\tself.predictor = nn.ModuleList([nn.Linear(dims[i], dims[i+1]) for i in range(layer_size)]) # classifer layers \n",
        "\n",
        "\tdef forward(self, v_D, v_P):\n",
        "\t\t# epitope/hla 임베딩\n",
        "\t\tv_E = self.model_epitope(v_D)\n",
        "\t\tv_H = self.model_hla(v_P)\n",
        "  \n",
        "\t\t# epitope - hla feature 합치기 \n",
        "\t\tv_f = torch.cat((v_E, v_H), 1)\n",
        "  \n",
        "\t\tfor i, l in enumerate(self.predictor):\n",
        "\t\t\tif i == (len(self.predictor)-1):\n",
        "\t\t\t\t# If last layer,\n",
        "\t\t\t\tv_f = l(v_f)\n",
        "\t\t\telse:\n",
        "\t\t\t\t# If Not last layer, dropout과 ReLU 적용\n",
        "\t\t\t\tv_f = F.relu(self.dropout(l(v_f)))\n",
        "\t\n",
        "\t\treturn v_f"
      ],
      "metadata": {
        "id": "MoyjLhsjjB8U"
      },
      "execution_count": null,
      "outputs": []
    },
    {
      "cell_type": "markdown",
      "source": [
        "# **Model Training**"
      ],
      "metadata": {
        "id": "CFBcYDT3jICf"
      }
    },
    {
      "cell_type": "code",
      "source": [
        "device = torch.device(\"cuda:0\" if torch.cuda.is_available() else \"cpu\")\n",
        "print(f\"Device: {device}\")"
      ],
      "metadata": {
        "colab": {
          "base_uri": "https://localhost:8080/"
        },
        "id": "knocIv7ujG9A",
        "outputId": "ca25b6cd-e063-4d79-afc6-e6772055325a"
      },
      "execution_count": null,
      "outputs": [
        {
          "output_type": "stream",
          "name": "stdout",
          "text": [
            "Device: cuda:0\n"
          ]
        }
      ]
    },
    {
      "cell_type": "code",
      "source": [
        "# model for drug\n",
        "model_epitope = CNN('epitope', **config)\n",
        "\n",
        "# model for protein\n",
        "model_hla = transformer('hla', **config)\n",
        "\n",
        "# classifier\n",
        "model = Classifier(model_epitope, model_hla, **config)\n",
        "\n",
        "model = model.to(device)"
      ],
      "metadata": {
        "id": "jblkw7QVjP1a"
      },
      "execution_count": null,
      "outputs": []
    },
    {
      "cell_type": "code",
      "source": [
        "from prettytable import PrettyTable\n",
        "from time import time\n",
        "\n",
        "from sklearn.metrics import mean_squared_error, roc_auc_score, average_precision_score, f1_score, log_loss"
      ],
      "metadata": {
        "id": "IvHOELTajRer"
      },
      "execution_count": null,
      "outputs": []
    },
    {
      "cell_type": "code",
      "source": [
        "# hyper parameter\n",
        "\n",
        "learning_rate = 0.001\n",
        "weight_decay  = 0.00001\n",
        "train_epoch   = 20"
      ],
      "metadata": {
        "id": "FYcyvIbmjUuK"
      },
      "execution_count": null,
      "outputs": []
    },
    {
      "cell_type": "code",
      "source": [
        "# 옵티마이저 선언\n",
        "opt = torch.optim.Adam(model.parameters(), lr = learning_rate, weight_decay = weight_decay) # Adam optimizer\n",
        "\n",
        "# 손실 함수 선언\n",
        "loss_fct = torch.nn.BCELoss()\n",
        "\n",
        "# 시그모이드(sigmoid) 함수\n",
        "sigmoid = torch.nn.Sigmoid() "
      ],
      "metadata": {
        "id": "OxikzL80jXH6"
      },
      "execution_count": null,
      "outputs": []
    },
    {
      "cell_type": "code",
      "source": [
        "def get_metrics(y_label, y_pred):\n",
        "    outputs = np.asarray([1 if i else 0 for i in (np.asarray(y_pred) >= 0.5)]) \n",
        "    \n",
        "    # metrics\n",
        "    auc = roc_auc_score(y_label, y_pred) # AUC \n",
        "    auprc = average_precision_score(y_label, y_pred) # Average Precision\n",
        "    f1 = f1_score(y_label, outputs) # F1 score\n",
        "    lloss = log_loss(y_label, outputs) # cross-entropy loss \n",
        "\n",
        "    return auc, auprc, f1, lloss"
      ],
      "metadata": {
        "id": "ZbTDj5C6jZAx"
      },
      "execution_count": null,
      "outputs": []
    },
    {
      "cell_type": "code",
      "source": [
        "loss_history = [] \n",
        "\n",
        "max_auc = 0 # 최고 AUC 저장\n",
        "model_max = copy.deepcopy(model) # 최고 AUC 저장\n",
        "\n",
        "valid_metric_record = [] # 각 metrics 저장\n",
        "valid_metric_header = [\"# epoch\"] \n",
        "valid_metric_header.extend([\"AUROC\", \"AUPRC\", \"F1\"])\n",
        "\n",
        "table = PrettyTable(valid_metric_header)\n",
        "\n",
        "float2str = lambda x:'%0.4f'%x\n",
        "\n",
        "print('--- Go for Training ---')\n",
        "t_start = time() \n",
        "\n",
        "\n",
        "for epoch in range(train_epoch):\n",
        "    # Training\n",
        "    model.train() \n",
        "\n",
        "    for i, (v_e, v_h, label) in enumerate(training_generator):\n",
        "        v_h = tuple(map(lambda x: x.float().to(device), v_h))\n",
        "        v_e = v_e.float().to(device) \n",
        "        \n",
        "        # 순전파 (forward-pass)\n",
        "        score = model(v_e, v_h)\n",
        "        label = Variable(torch.from_numpy(np.array(label)).float()).to(device) # label numpy -> torch tensor\n",
        "        \n",
        "        # 모델 아웃풋 score -> probability\n",
        "        n = torch.squeeze(sigmoid(score), 1)\n",
        "        \n",
        "        # 손실 값(loss) 계산\n",
        "        loss = loss_fct(n, label)            \n",
        "        loss_history.append(loss.item()) # loss 기록\n",
        "\n",
        "        opt.zero_grad() # gradient 초기화\n",
        "        loss.backward() # back propagation\n",
        "        opt.step() # parameter 업데이트\n",
        "\n",
        "    # Validation\n",
        "    model.eval()\n",
        "    with torch.set_grad_enabled(False):\n",
        "        y_pred = []\n",
        "        y_label = []\n",
        "\n",
        "        for i, (v_e, v_h, label) in enumerate(valid_generator):\n",
        "            v_h = tuple(map(lambda x: x.float().to(device), v_h))\n",
        "            v_e = v_e.float().to(device) \n",
        "\n",
        "            # 순전파 (forward-pass)\n",
        "            score = model(v_e, v_h)\n",
        "            \n",
        "            logits = torch.squeeze(sigmoid(score)).detach().cpu().numpy() # 예측 확률\n",
        "            label_ids = label.to('cpu').numpy() # 참 값 \n",
        "\n",
        "            y_label = y_label + label_ids.flatten().tolist()\n",
        "            y_pred = y_pred + logits.flatten().tolist() \n",
        "\n",
        "    # 예측 값 \n",
        "    outputs = np.asarray([1 if i else 0 for i in (np.asarray(y_pred) >= 0.5)]) \n",
        "\n",
        "    # model evaluation\n",
        "    auc, auprc, f1, lloss = get_metrics(y_label, y_pred)\n",
        "\n",
        "    lst = [\"epoch \" + str(epoch)] + list(map(float2str,[auc, auprc, f1]))\n",
        "    valid_metric_record.append(lst)\n",
        "\n",
        "    if auc > max_auc:\n",
        "        model_max = copy.deepcopy(model)\n",
        "        max_auc = auc   \n",
        "\n",
        "    print('Validation at Epoch '+ str(epoch + 1) + ', AUROC: ' + str(auc)[:7] + \\\n",
        "            ' , AUPRC: ' + str(auprc)[:7] + ' , F1: '+str(f1)[:7] + ' , Cross-entropy Loss: ' + \\\n",
        "            str(lloss)[:7])\n",
        "    \n",
        "    \n",
        "    table.add_row(lst)"
      ],
      "metadata": {
        "colab": {
          "base_uri": "https://localhost:8080/"
        },
        "id": "LOF3AoWKjaU5",
        "outputId": "10cfd9f9-3b53-4c58-b168-f7aaddf16b62"
      },
      "execution_count": null,
      "outputs": [
        {
          "output_type": "stream",
          "name": "stdout",
          "text": [
            "--- Go for Training ---\n",
            "Validation at Epoch 1, AUROC: 0.77722 , AUPRC: 0.60163 , F1: 0.52596 , Cross-entropy Loss: 7.35256\n",
            "Validation at Epoch 2, AUROC: 0.84665 , AUPRC: 0.69312 , F1: 0.62648 , Cross-entropy Loss: 6.31123\n",
            "Validation at Epoch 3, AUROC: 0.86965 , AUPRC: 0.73025 , F1: 0.63620 , Cross-entropy Loss: 5.95453\n",
            "Validation at Epoch 4, AUROC: 0.88417 , AUPRC: 0.74853 , F1: 0.66943 , Cross-entropy Loss: 5.95453\n",
            "Validation at Epoch 5, AUROC: 0.91337 , AUPRC: 0.81164 , F1: 0.72571 , Cross-entropy Loss: 4.98800\n",
            "Validation at Epoch 6, AUROC: 0.93143 , AUPRC: 0.84435 , F1: 0.74809 , Cross-entropy Loss: 4.37816\n",
            "Validation at Epoch 7, AUROC: 0.93368 , AUPRC: 0.84781 , F1: 0.74485 , Cross-entropy Loss: 4.49323\n",
            "Validation at Epoch 8, AUROC: 0.94015 , AUPRC: 0.86456 , F1: 0.77728 , Cross-entropy Loss: 4.08475\n",
            "Validation at Epoch 9, AUROC: 0.94253 , AUPRC: 0.87032 , F1: 0.76542 , Cross-entropy Loss: 3.98119\n",
            "Validation at Epoch 10, AUROC: 0.94263 , AUPRC: 0.87231 , F1: 0.76823 , Cross-entropy Loss: 3.92941\n",
            "Validation at Epoch 11, AUROC: 0.93823 , AUPRC: 0.85894 , F1: 0.76936 , Cross-entropy Loss: 4.41843\n",
            "Validation at Epoch 12, AUROC: 0.94506 , AUPRC: 0.87706 , F1: 0.76164 , Cross-entropy Loss: 3.94667\n",
            "Validation at Epoch 13, AUROC: 0.94026 , AUPRC: 0.87035 , F1: 0.76029 , Cross-entropy Loss: 4.08475\n",
            "Validation at Epoch 14, AUROC: 0.94233 , AUPRC: 0.86791 , F1: 0.78252 , Cross-entropy Loss: 4.09626\n",
            "Validation at Epoch 15, AUROC: 0.94319 , AUPRC: 0.87270 , F1: 0.77392 , Cross-entropy Loss: 4.00996\n",
            "Validation at Epoch 16, AUROC: 0.94411 , AUPRC: 0.87589 , F1: 0.78696 , Cross-entropy Loss: 3.91216\n",
            "Validation at Epoch 17, AUROC: 0.94421 , AUPRC: 0.87946 , F1: 0.78113 , Cross-entropy Loss: 3.79134\n",
            "Validation at Epoch 18, AUROC: 0.94894 , AUPRC: 0.88244 , F1: 0.79726 , Cross-entropy Loss: 3.75107\n",
            "Validation at Epoch 19, AUROC: 0.94309 , AUPRC: 0.87659 , F1: 0.78498 , Cross-entropy Loss: 3.75682\n",
            "Validation at Epoch 20, AUROC: 0.94872 , AUPRC: 0.88222 , F1: 0.79661 , Cross-entropy Loss: 3.72805\n"
          ]
        }
      ]
    },
    {
      "cell_type": "markdown",
      "source": [
        "# **MODEL TEST**"
      ],
      "metadata": {
        "id": "pHvyK2mhpJUN"
      }
    },
    {
      "cell_type": "code",
      "source": [
        "model = model_max \n",
        "model.eval()\n",
        "\n",
        "y_pred = []\n",
        "y_label = []\n",
        "y_outputs = []\n",
        "\n",
        "for i, (v_e, v_h, label) in enumerate(test_generator):\n",
        "    v_h = tuple(map(lambda x: x.float().to(device), v_h))\n",
        "    v_e = v_e.float().to(device) \n",
        "    \n",
        "    # 순전파(forward-pass)\n",
        "    score = model(v_e, v_h) \n",
        "    logits = torch.squeeze(sigmoid(score)).detach().cpu().numpy()\n",
        "\n",
        "    label_ids = label.to('cpu').numpy()\n",
        "    y_label = y_label + label_ids.flatten().tolist()\n",
        "    y_pred = y_pred + logits.flatten().tolist()\n",
        "    outputs = np.asarray([1 if i else 0 for i in (np.asarray(y_pred) >= 0.5)])\n",
        "\n",
        "    y_outputs.append(outputs)"
      ],
      "metadata": {
        "id": "99EIGHirpI3M"
      },
      "execution_count": null,
      "outputs": []
    },
    {
      "cell_type": "code",
      "source": [
        "# model evaluation\n",
        "auc, auprc, f1, lloss = get_metrics(y_label, y_pred)\n",
        "\n",
        "print('Test result - ' + ', AUROC: ' + str(auc)[:7] + ' , AUPRC: ' + str(auprc)[:7] + ' , F1: '+str(f1)[:7] + ' , Cross-entropy Loss: ' + str(loss)[:7])"
      ],
      "metadata": {
        "colab": {
          "base_uri": "https://localhost:8080/"
        },
        "id": "na4C20vlpU0V",
        "outputId": "b473354c-695a-43f2-dad5-3b448f448e32"
      },
      "execution_count": null,
      "outputs": [
        {
          "output_type": "stream",
          "name": "stdout",
          "text": [
            "Test result - , AUROC: 0.95175 , AUPRC: 0.88035 , F1: 0.80138 , Cross-entropy Loss: tensor(\n"
          ]
        }
      ]
    },
    {
      "cell_type": "code",
      "source": [
        "def roc_curve(y_pred, y_label, figure_file, method_name):\n",
        "\n",
        "\timport matplotlib.pyplot as plt\n",
        "\tfrom sklearn.metrics import roc_curve, auc\n",
        "\tfrom sklearn.metrics import roc_auc_score\n",
        "\n",
        "\ty_label = np.array(y_label)\n",
        "\ty_pred = np.array(y_pred)\t\n",
        " \n",
        "\tfpr = dict()\n",
        "\ttpr = dict() \n",
        "\troc_auc = dict()\n",
        " \n",
        "\tfpr[0], tpr[0], _ = roc_curve(y_label, y_pred) # FPR / TPR 구하기\n",
        "\troc_auc[0] = auc(fpr[0], tpr[0]) # AUC 구하기\n",
        "\t\n",
        "\t# ROC 커브 그리기\n",
        "\tlw = 2\n",
        "\tplt.plot(fpr[0], tpr[0],\n",
        "         lw=lw, label= method_name + ' (area = %0.2f)' % roc_auc[0])\n",
        "\tplt.plot([0, 1], [0, 1], color='navy', lw=lw, linestyle='--')\n",
        "\tplt.xlim([0.0, 1.0])\n",
        "\tplt.ylim([0.0, 1.05])\n",
        "\tfontsize = 14\n",
        "\tplt.xlabel('False Positive Rate', fontsize = fontsize)\n",
        "\tplt.ylabel('True Positive Rate', fontsize = fontsize)\n",
        "\tplt.title('Receiver Operating Characteristic Curve')\n",
        "\tplt.legend(loc=\"lower right\")\n",
        "\tplt.savefig(figure_file)\n",
        " \n",
        "\n",
        "def prauc_curve(y_pred, y_label, figure_file, method_name):\n",
        "\timport matplotlib.pyplot as plt\n",
        "\tfrom sklearn.metrics import precision_recall_curve, average_precision_score\n",
        "\tfrom sklearn.metrics import f1_score\n",
        "\tfrom sklearn.metrics import auc\n",
        "\n",
        "\tlr_precision, lr_recall, _ = precision_recall_curve(y_label, y_pred) # precision, recall 구하기\n",
        "\t\n",
        "\t# 커브 그리기\n",
        "\tplt.plot(lr_recall, lr_precision, lw = 2, label= method_name + ' (area = %0.2f)' % average_precision_score(y_label, y_pred))\n",
        "\tfontsize = 14\n",
        "\tplt.xlabel('Recall', fontsize = fontsize)\n",
        "\tplt.ylabel('Precision', fontsize = fontsize)\n",
        "\tplt.title('Precision Recall Curve')\n",
        "\tplt.legend()\n",
        "\tplt.savefig(figure_file)"
      ],
      "metadata": {
        "id": "7Qe-m232pWdv"
      },
      "execution_count": null,
      "outputs": []
    },
    {
      "cell_type": "code",
      "source": [
        "roc_curve(y_pred, y_label, \"NeoAntigen.png\", \"NeoAntigen\")"
      ],
      "metadata": {
        "colab": {
          "base_uri": "https://localhost:8080/",
          "height": 477
        },
        "id": "oGjGHvWPpbm_",
        "outputId": "55908f10-ce0e-4fff-d6dc-f9ad02e4c522"
      },
      "execution_count": null,
      "outputs": [
        {
          "output_type": "display_data",
          "data": {
            "text/plain": [
              "<Figure size 640x480 with 1 Axes>"
            ],
            "image/png": "[encoded data removed]"
          },
          "metadata": {}
        }
      ]
    },
    {
      "cell_type": "code",
      "source": [
        "prauc_curve(y_pred, y_label, \"NeoAntigen.png\", \"NeoAntigen\")"
      ],
      "metadata": {
        "colab": {
          "base_uri": "https://localhost:8080/",
          "height": 477
        },
        "id": "SrkivBRrpc_t",
        "outputId": "79d42272-f8c1-4073-a7e8-f9bf0b8193f1"
      },
      "execution_count": null,
      "outputs": [
        {
          "output_type": "display_data",
          "data": {
            "text/plain": [
              "<Figure size 640x480 with 1 Axes>"
            ],
            "image/png": "[encoded data removed]"
          },
          "metadata": {}
        }
      ]
    }
  ]
}